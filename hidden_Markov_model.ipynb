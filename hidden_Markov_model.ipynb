{
 "cells": [
  {
   "cell_type": "code",
   "execution_count": 5,
   "metadata": {},
   "outputs": [],
   "source": [
    "from pomegranate import *\n",
    "import numpy as np"
   ]
  },
  {
   "cell_type": "code",
   "execution_count": 2,
   "metadata": {},
   "outputs": [],
   "source": [
    "# define first prob\n",
    "sun = DiscreteDistribution({\n",
    "    \"umbrella\" : 0.2,\n",
    "    \"no umbrella\" : 0.8\n",
    "})"
   ]
  },
  {
   "cell_type": "code",
   "execution_count": 3,
   "metadata": {},
   "outputs": [],
   "source": [
    "# define second prob\n",
    "rain = DiscreteDistribution({\n",
    "    \"umbrella\" : 0.9,\n",
    "    \"no umbrella\" : 0.1\n",
    "})"
   ]
  },
  {
   "cell_type": "code",
   "execution_count": 4,
   "metadata": {},
   "outputs": [],
   "source": [
    "states = [sun, rain]"
   ]
  },
  {
   "cell_type": "code",
   "execution_count": 18,
   "metadata": {},
   "outputs": [],
   "source": [
    "# transition model  (Markov model)\n",
    "# starting probabilites\n",
    "starts = np.array([0.5, 0.5])\n",
    "\n",
    "transitions = np.array([[0.8, 0.2],         # tomorrows prediction if today = sun\n",
    "                       [0.3, 0.7]]        # tomorrows prediction if today = rain\n",
    ")"
   ]
  },
  {
   "cell_type": "code",
   "execution_count": 19,
   "metadata": {},
   "outputs": [],
   "source": [
    "#create the model\n",
    "model = HiddenMarkovModel.from_matrix(\n",
    "                          transitions, states, starts,\n",
    "                          state_names=['sun', 'rain']\n",
    ")"
   ]
  },
  {
   "cell_type": "code",
   "execution_count": 20,
   "metadata": {},
   "outputs": [],
   "source": [
    "model.bake()"
   ]
  },
  {
   "cell_type": "code",
   "execution_count": null,
   "metadata": {},
   "outputs": [],
   "source": [
    "sys.path.append('./AI/hidden_Markov_model.py')\n",
    "sys.path.insert(0, './AI/hidden_Markov_model.py/')"
   ]
  }
 ],
 "metadata": {
  "kernelspec": {
   "display_name": "Python 3",
   "language": "python",
   "name": "python3"
  },
  "language_info": {
   "codemirror_mode": {
    "name": "ipython",
    "version": 3
   },
   "file_extension": ".py",
   "mimetype": "text/x-python",
   "name": "python",
   "nbconvert_exporter": "python",
   "pygments_lexer": "ipython3",
   "version": "3.8.2"
  }
 },
 "nbformat": 4,
 "nbformat_minor": 4
}
