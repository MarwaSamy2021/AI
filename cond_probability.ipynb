{
 "cells": [
  {
   "cell_type": "code",
   "execution_count": 1,
   "metadata": {},
   "outputs": [],
   "source": [
    "from pomegranate import *"
   ]
  },
  {
   "cell_type": "code",
   "execution_count": 2,
   "metadata": {},
   "outputs": [],
   "source": [
    "# rain node has no parent\n",
    "rain = Node(DiscreteDistribution({\n",
    "    \"none\" : 0.7,\n",
    "    \"light\" : 0.2,\n",
    "    \"heavy\" : 0.1\n",
    "}), name = \"rain\")"
   ]
  },
  {
   "cell_type": "code",
   "execution_count": 3,
   "metadata": {},
   "outputs": [],
   "source": [
    "# track maintenance node is conditional on rain\n",
    "maintenance = Node(ConditionalProbabilityTable([\n",
    "    ['none', 'yes', 0.4],\n",
    "    ['none', 'no', 0.6],\n",
    "    ['light', 'yes', 0.2],\n",
    "    ['light', 'no', 0.8],\n",
    "    ['heavy', 'yes', 0.1],\n",
    "    ['heavy', 'no', 0.9],\n",
    "],[rain.distribution]), name = \"maintenance\")"
   ]
  },
  {
   "cell_type": "code",
   "execution_count": 4,
   "metadata": {},
   "outputs": [],
   "source": [
    "# train maintenance node is conditional on rain and maintenance\n",
    "train = Node(ConditionalProbabilityTable([\n",
    "    ['none', 'yes', 'on time', 0.8],\n",
    "    ['none', 'yes', 'delayed', 0.2],\n",
    "    ['none', 'no', 'on time', 0.9],\n",
    "    ['none', 'no', 'delayed', 0.1],\n",
    "    ['light', 'yes', 'on time', 0.6],\n",
    "    ['light', 'yes', 'delayed', 0.4],\n",
    "    ['light', 'no', 'on time', 0.7],\n",
    "    ['light', 'no', 'delayed', 0.3],\n",
    "    ['heavy', 'yes', 'on time', 0.4],\n",
    "    ['heavy', 'yes', 'delayed', 0.6],\n",
    "    ['heavy', 'no', 'on time', 0.5],\n",
    "    ['heavy', 'no', 'delayed', 0.5]\n",
    "], [rain.distribution, maintenance.distribution]), name='train')"
   ]
  },
  {
   "cell_type": "code",
   "execution_count": 7,
   "metadata": {},
   "outputs": [],
   "source": [
    "# appointment maintenance node is conditional on train\n",
    "appointment = Node(ConditionalProbabilityTable([\n",
    "    [\"on time\", \"attend\", 0.9],\n",
    "    [\"on time\", \"miss\", 0.1],\n",
    "    [\"delayed\", \"attend\", 0.6],\n",
    "    [\"delayed\", \"miss\", 0.4]\n",
    "], [train.distribution]), name='appointment')"
   ]
  },
  {
   "cell_type": "code",
   "execution_count": 8,
   "metadata": {},
   "outputs": [],
   "source": [
    "# create a bayesian Network and add states\n",
    "model = BayesianNetwork()\n",
    "model.add_states(rain, maintenance, train, appointment)\n",
    "\n",
    "#add edged connecting nodes\n",
    "model.add_edge(rain, maintenance)\n",
    "model.add_edge(rain, train)\n",
    "model.add_edge(maintenance, train)\n",
    "model.add_edge(train, appointment)\n",
    "\n",
    "#finalize model\n",
    "model.bake()"
   ]
  },
  {
   "cell_type": "code",
   "execution_count": 10,
   "metadata": {},
   "outputs": [],
   "source": [
    "sys.path.append('./cond_probability.py')\n",
    "sys.path.insert(0, './AI/cond_probability.py/')"
   ]
  },
  {
   "cell_type": "code",
   "execution_count": null,
   "metadata": {},
   "outputs": [],
   "source": []
  }
 ],
 "metadata": {
  "kernelspec": {
   "display_name": "Python [conda env:.conda-python_3] *",
   "language": "python",
   "name": "conda-env-.conda-python_3-py"
  },
  "language_info": {
   "codemirror_mode": {
    "name": "ipython",
    "version": 3
   },
   "file_extension": ".py",
   "mimetype": "text/x-python",
   "name": "python",
   "nbconvert_exporter": "python",
   "pygments_lexer": "ipython3",
   "version": "3.8.2"
  }
 },
 "nbformat": 4,
 "nbformat_minor": 4
}
