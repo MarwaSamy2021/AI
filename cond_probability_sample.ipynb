{
 "cells": [
  {
   "cell_type": "code",
   "execution_count": 1,
   "metadata": {},
   "outputs": [],
   "source": [
    "import pomegranate"
   ]
  },
  {
   "cell_type": "code",
   "execution_count": 2,
   "metadata": {},
   "outputs": [],
   "source": [
    "from collections import Counter"
   ]
  },
  {
   "cell_type": "code",
   "execution_count": 3,
   "metadata": {},
   "outputs": [],
   "source": [
    "from cond_probability_model import model"
   ]
  },
  {
   "cell_type": "code",
   "execution_count": null,
   "metadata": {},
   "outputs": [],
   "source": [
    "# state.name = states = ['rain',  'maintenance', 'train', 'appointment'] \n",
    "# state.distribution.sample = distribution of each state\n",
    "#    rain : [none, light, heavy]\n",
    "#    maintenance : [yes, no] ......"
   ]
  },
  {
   "cell_type": "code",
   "execution_count": 19,
   "metadata": {},
   "outputs": [],
   "source": [
    "def generate_sample():\n",
    "    # mapping of random variable name of sample\n",
    "    sample = {}\n",
    "    \n",
    "    #mapping of distribution of sample\n",
    "    parents = {}\n",
    "    \n",
    "    # loop over all states\n",
    "    for state in model.states:\n",
    "        \n",
    "        # if we have a non-root node, sample conditional on parents\n",
    "        if isinstance(state.distribution, pomegranate.ConditionalProbabilityTable):\n",
    "            sample[state.name] = state.distribution.sample(parent_values = parents)\n",
    "            #print(sample[state.name])\n",
    "            \n",
    "        # otherwise, just sample from distribution alone\n",
    "        else:\n",
    "            sample[state.name] = state.distribution.sample()\n",
    "            #print(sample[state.name])\n",
    "            \n",
    "        # keep track of the sampled value in the parents mapping\n",
    "        parents[state.distribution] = sample[state.name]\n",
    "        #print(parents[state.distribution])\n",
    "        \n",
    "    # return generated sample\n",
    "    return (sample)"
   ]
  },
  {
   "cell_type": "code",
   "execution_count": 23,
   "metadata": {},
   "outputs": [
    {
     "name": "stdout",
     "output_type": "stream",
     "text": [
      "Counter({'attend': 1256, 'miss': 826})\n"
     ]
    }
   ],
   "source": [
    "# Reject sampling\n",
    "# compute distribution of appointement given that \"train\" is \"delayed\"\n",
    "N = 10000\n",
    "data = []\n",
    "\n",
    "for i in range(N):\n",
    "    sample = generate_sample()\n",
    "    if sample[\"train\"] == \"delayed\" : \n",
    "        data.append(sample['appointment'])\n",
    "print(Counter(data))"
   ]
  },
  {
   "cell_type": "code",
   "execution_count": null,
   "metadata": {},
   "outputs": [],
   "source": []
  }
 ],
 "metadata": {
  "kernelspec": {
   "display_name": "Python 3",
   "language": "python",
   "name": "python3"
  },
  "language_info": {
   "codemirror_mode": {
    "name": "ipython",
    "version": 3
   },
   "file_extension": ".py",
   "mimetype": "text/x-python",
   "name": "python",
   "nbconvert_exporter": "python",
   "pygments_lexer": "ipython3",
   "version": "3.8.2"
  }
 },
 "nbformat": 4,
 "nbformat_minor": 4
}
