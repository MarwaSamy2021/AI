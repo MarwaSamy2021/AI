{
 "cells": [
  {
   "cell_type": "code",
   "execution_count": 27,
   "metadata": {},
   "outputs": [],
   "source": [
    "import sys\n",
    "\n",
    "from cond_probability import model"
   ]
  },
  {
   "cell_type": "code",
   "execution_count": 28,
   "metadata": {},
   "outputs": [
    {
     "data": {
      "text/plain": [
       "0.34019999999999995"
      ]
     },
     "execution_count": 28,
     "metadata": {},
     "output_type": "execute_result"
    }
   ],
   "source": [
    "# calculate probability for a given observation\n",
    "model.probability([['none', 'no', 'on time', 'attend']])"
   ]
  },
  {
   "cell_type": "code",
   "execution_count": 53,
   "metadata": {},
   "outputs": [
    {
     "name": "stdout",
     "output_type": "stream",
     "text": [
      "{\n",
      "    \"class\" : \"Distribution\",\n",
      "    \"dtype\" : \"str\",\n",
      "    \"name\" : \"DiscreteDistribution\",\n",
      "    \"parameters\" : [\n",
      "        {\n",
      "            \"miss\" : 0.4,\n",
      "            \"attend\" : 0.5999999999999999\n",
      "        }\n",
      "    ],\n",
      "    \"frozen\" : false\n",
      "}\n"
     ]
    }
   ],
   "source": [
    "#calculate prediction\n",
    "predictions = model.predict_proba({\n",
    "    'rain' : 'heavy',\n",
    "    \"train\":'delayed'\n",
    "})\n",
    "\n",
    "print(prediction)"
   ]
  },
  {
   "cell_type": "code",
   "execution_count": 54,
   "metadata": {},
   "outputs": [
    {
     "name": "stdout",
     "output_type": "stream",
     "text": [
      "rain\n",
      "none: 0.4582663523106501\n",
      "light: 0.30694146412284706\n",
      "heavy: 0.23479218356650278\n",
      "maintenance\n",
      "yes: 0.35679838331206687\n",
      "no: 0.6432016166879331\n",
      "train: delayed\n",
      "appointment\n",
      "miss: 0.4\n",
      "attend: 0.5999999999999999\n"
     ]
    }
   ],
   "source": [
    "# print prediction for each node\n",
    "for node, prediction in zip(model.states, predictions):\n",
    "    if isinstance(prediction, str):\n",
    "        print(f\"{node.name}: {prediction}\")\n",
    "    else:\n",
    "        print(f\"{node.name}\")\n",
    "        for value, probability in prediction.parameters[0].items():\n",
    "            print(f\"{value}: {probability}\") "
   ]
  },
  {
   "cell_type": "code",
   "execution_count": null,
   "metadata": {},
   "outputs": [],
   "source": []
  }
 ],
 "metadata": {
  "kernelspec": {
   "display_name": "Python 3",
   "language": "python",
   "name": "python3"
  },
  "language_info": {
   "codemirror_mode": {
    "name": "ipython",
    "version": 3
   },
   "file_extension": ".py",
   "mimetype": "text/x-python",
   "name": "python",
   "nbconvert_exporter": "python",
   "pygments_lexer": "ipython3",
   "version": "3.8.2"
  }
 },
 "nbformat": 4,
 "nbformat_minor": 4
}
